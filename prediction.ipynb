{
 "cells": [
  {
   "cell_type": "code",
   "execution_count": 1,
   "metadata": {},
   "outputs": [],
   "source": [
    "import numpy as np\n",
    "import tensorflow as tf\n",
    "from tensorflow.keras.datasets import imdb\n",
    "from tensorflow.keras.preprocessing import sequence\n",
    "from tensorflow.keras.models import Sequential\n",
    "from tensorflow.keras.models import load_model"
   ]
  },
  {
   "cell_type": "code",
   "execution_count": 2,
   "metadata": {},
   "outputs": [],
   "source": [
    " #mapping of words index back to words\n",
    "word_index=imdb.get_word_index()\n",
    "#word_index\n",
    "reverse_word={value:key for key,value in word_index.items()} "
   ]
  },
  {
   "cell_type": "code",
   "execution_count": 3,
   "metadata": {},
   "outputs": [
    {
     "name": "stderr",
     "output_type": "stream",
     "text": [
      "WARNING:absl:Compiled the loaded model, but the compiled metrics have yet to be built. `model.compile_metrics` will be empty until you train or evaluate the model.\n"
     ]
    },
    {
     "data": {
      "text/html": [
       "<pre style=\"white-space:pre;overflow-x:auto;line-height:normal;font-family:Menlo,'DejaVu Sans Mono',consolas,'Courier New',monospace\"><span style=\"font-weight: bold\">Model: \"sequential\"</span>\n",
       "</pre>\n"
      ],
      "text/plain": [
       "\u001b[1mModel: \"sequential\"\u001b[0m\n"
      ]
     },
     "metadata": {},
     "output_type": "display_data"
    },
    {
     "data": {
      "text/html": [
       "<pre style=\"white-space:pre;overflow-x:auto;line-height:normal;font-family:Menlo,'DejaVu Sans Mono',consolas,'Courier New',monospace\">┏━━━━━━━━━━━━━━━━━━━━━━━━━━━━━━━━━┳━━━━━━━━━━━━━━━━━━━━━━━━┳━━━━━━━━━━━━━━━┓\n",
       "┃<span style=\"font-weight: bold\"> Layer (type)                    </span>┃<span style=\"font-weight: bold\"> Output Shape           </span>┃<span style=\"font-weight: bold\">       Param # </span>┃\n",
       "┡━━━━━━━━━━━━━━━━━━━━━━━━━━━━━━━━━╇━━━━━━━━━━━━━━━━━━━━━━━━╇━━━━━━━━━━━━━━━┩\n",
       "│ embedding (<span style=\"color: #0087ff; text-decoration-color: #0087ff\">Embedding</span>)           │ (<span style=\"color: #00d7ff; text-decoration-color: #00d7ff\">None</span>, <span style=\"color: #00af00; text-decoration-color: #00af00\">500</span>, <span style=\"color: #00af00; text-decoration-color: #00af00\">128</span>)       │     <span style=\"color: #00af00; text-decoration-color: #00af00\">2,560,000</span> │\n",
       "├─────────────────────────────────┼────────────────────────┼───────────────┤\n",
       "│ simple_rnn (<span style=\"color: #0087ff; text-decoration-color: #0087ff\">SimpleRNN</span>)          │ (<span style=\"color: #00d7ff; text-decoration-color: #00d7ff\">None</span>, <span style=\"color: #00af00; text-decoration-color: #00af00\">128</span>)            │        <span style=\"color: #00af00; text-decoration-color: #00af00\">32,896</span> │\n",
       "├─────────────────────────────────┼────────────────────────┼───────────────┤\n",
       "│ dense (<span style=\"color: #0087ff; text-decoration-color: #0087ff\">Dense</span>)                   │ (<span style=\"color: #00d7ff; text-decoration-color: #00d7ff\">None</span>, <span style=\"color: #00af00; text-decoration-color: #00af00\">1</span>)              │           <span style=\"color: #00af00; text-decoration-color: #00af00\">129</span> │\n",
       "└─────────────────────────────────┴────────────────────────┴───────────────┘\n",
       "</pre>\n"
      ],
      "text/plain": [
       "┏━━━━━━━━━━━━━━━━━━━━━━━━━━━━━━━━━┳━━━━━━━━━━━━━━━━━━━━━━━━┳━━━━━━━━━━━━━━━┓\n",
       "┃\u001b[1m \u001b[0m\u001b[1mLayer (type)                   \u001b[0m\u001b[1m \u001b[0m┃\u001b[1m \u001b[0m\u001b[1mOutput Shape          \u001b[0m\u001b[1m \u001b[0m┃\u001b[1m \u001b[0m\u001b[1m      Param #\u001b[0m\u001b[1m \u001b[0m┃\n",
       "┡━━━━━━━━━━━━━━━━━━━━━━━━━━━━━━━━━╇━━━━━━━━━━━━━━━━━━━━━━━━╇━━━━━━━━━━━━━━━┩\n",
       "│ embedding (\u001b[38;5;33mEmbedding\u001b[0m)           │ (\u001b[38;5;45mNone\u001b[0m, \u001b[38;5;34m500\u001b[0m, \u001b[38;5;34m128\u001b[0m)       │     \u001b[38;5;34m2,560,000\u001b[0m │\n",
       "├─────────────────────────────────┼────────────────────────┼───────────────┤\n",
       "│ simple_rnn (\u001b[38;5;33mSimpleRNN\u001b[0m)          │ (\u001b[38;5;45mNone\u001b[0m, \u001b[38;5;34m128\u001b[0m)            │        \u001b[38;5;34m32,896\u001b[0m │\n",
       "├─────────────────────────────────┼────────────────────────┼───────────────┤\n",
       "│ dense (\u001b[38;5;33mDense\u001b[0m)                   │ (\u001b[38;5;45mNone\u001b[0m, \u001b[38;5;34m1\u001b[0m)              │           \u001b[38;5;34m129\u001b[0m │\n",
       "└─────────────────────────────────┴────────────────────────┴───────────────┘\n"
      ]
     },
     "metadata": {},
     "output_type": "display_data"
    },
    {
     "data": {
      "text/html": [
       "<pre style=\"white-space:pre;overflow-x:auto;line-height:normal;font-family:Menlo,'DejaVu Sans Mono',consolas,'Courier New',monospace\"><span style=\"font-weight: bold\"> Total params: </span><span style=\"color: #00af00; text-decoration-color: #00af00\">2,593,027</span> (9.89 MB)\n",
       "</pre>\n"
      ],
      "text/plain": [
       "\u001b[1m Total params: \u001b[0m\u001b[38;5;34m2,593,027\u001b[0m (9.89 MB)\n"
      ]
     },
     "metadata": {},
     "output_type": "display_data"
    },
    {
     "data": {
      "text/html": [
       "<pre style=\"white-space:pre;overflow-x:auto;line-height:normal;font-family:Menlo,'DejaVu Sans Mono',consolas,'Courier New',monospace\"><span style=\"font-weight: bold\"> Trainable params: </span><span style=\"color: #00af00; text-decoration-color: #00af00\">2,593,025</span> (9.89 MB)\n",
       "</pre>\n"
      ],
      "text/plain": [
       "\u001b[1m Trainable params: \u001b[0m\u001b[38;5;34m2,593,025\u001b[0m (9.89 MB)\n"
      ]
     },
     "metadata": {},
     "output_type": "display_data"
    },
    {
     "data": {
      "text/html": [
       "<pre style=\"white-space:pre;overflow-x:auto;line-height:normal;font-family:Menlo,'DejaVu Sans Mono',consolas,'Courier New',monospace\"><span style=\"font-weight: bold\"> Non-trainable params: </span><span style=\"color: #00af00; text-decoration-color: #00af00\">0</span> (0.00 B)\n",
       "</pre>\n"
      ],
      "text/plain": [
       "\u001b[1m Non-trainable params: \u001b[0m\u001b[38;5;34m0\u001b[0m (0.00 B)\n"
      ]
     },
     "metadata": {},
     "output_type": "display_data"
    },
    {
     "data": {
      "text/html": [
       "<pre style=\"white-space:pre;overflow-x:auto;line-height:normal;font-family:Menlo,'DejaVu Sans Mono',consolas,'Courier New',monospace\"><span style=\"font-weight: bold\"> Optimizer params: </span><span style=\"color: #00af00; text-decoration-color: #00af00\">2</span> (12.00 B)\n",
       "</pre>\n"
      ],
      "text/plain": [
       "\u001b[1m Optimizer params: \u001b[0m\u001b[38;5;34m2\u001b[0m (12.00 B)\n"
      ]
     },
     "metadata": {},
     "output_type": "display_data"
    }
   ],
   "source": [
    "model=load_model('simple_rnn_imdb.h5')\n",
    "model.summary()"
   ]
  },
  {
   "cell_type": "code",
   "execution_count": 4,
   "metadata": {},
   "outputs": [
    {
     "data": {
      "text/plain": [
       "[array([[-0.01629949, -0.05092657, -0.04458423, ...,  0.05726152,\n",
       "          0.04964079, -0.01411808],\n",
       "        [ 0.02215845, -0.00318226,  0.01030951, ...,  0.01600846,\n",
       "         -0.00815346,  0.05005909],\n",
       "        [ 0.07389091,  0.02328052, -0.01690494, ...,  0.03571017,\n",
       "          0.02997906,  0.02142542],\n",
       "        ...,\n",
       "        [ 0.00850362,  0.06851216,  0.01410961, ..., -0.06658664,\n",
       "         -0.02929737, -0.06280419],\n",
       "        [-0.01820549,  0.04786506,  0.01348015, ...,  0.0312847 ,\n",
       "          0.00871448,  0.02412695],\n",
       "        [ 0.03584025, -0.04469594, -0.0064137 , ...,  0.00503312,\n",
       "         -0.00236604,  0.01558587]], dtype=float32),\n",
       " array([[ 0.13517202,  0.07086474,  0.02871671, ..., -0.09622092,\n",
       "         -0.13304952,  0.09791464],\n",
       "        [ 0.07375556,  0.11126588, -0.01436039, ...,  0.03352355,\n",
       "         -0.10037052,  0.02215348],\n",
       "        [-0.0831807 , -0.07393898,  0.04426299, ..., -0.10013176,\n",
       "         -0.09115447,  0.07098804],\n",
       "        ...,\n",
       "        [ 0.01431329, -0.02111656, -0.06551195, ..., -0.02831811,\n",
       "         -0.02254322,  0.13264258],\n",
       "        [-0.10955344, -0.07375501,  0.00433124, ..., -0.09372345,\n",
       "          0.05207978, -0.12915398],\n",
       "        [ 0.06983833,  0.00344452, -0.04836151, ..., -0.10514662,\n",
       "         -0.03639947,  0.11337026]], dtype=float32),\n",
       " array([[-0.17659777, -0.15664917, -0.0129543 , ..., -0.05064808,\n",
       "         -0.01488253, -0.05981807],\n",
       "        [-0.07732632, -0.09004979,  0.10121316, ...,  0.05422862,\n",
       "          0.07691251,  0.0481578 ],\n",
       "        [ 0.02045415, -0.012321  ,  0.03787493, ...,  0.12181436,\n",
       "          0.09391802, -0.10218852],\n",
       "        ...,\n",
       "        [-0.0805424 , -0.10878286,  0.08523042, ..., -0.06029518,\n",
       "         -0.18887475,  0.04767726],\n",
       "        [ 0.17389701, -0.0625653 , -0.05803975, ..., -0.03944815,\n",
       "          0.00824744,  0.0381751 ],\n",
       "        [ 0.02339055, -0.0508849 ,  0.03143224, ...,  0.03015723,\n",
       "          0.10025285, -0.14095736]], dtype=float32),\n",
       " array([-0.01819601, -0.01304255, -0.00716608, -0.02022185, -0.03074243,\n",
       "        -0.01660427, -0.02802497,  0.01692768, -0.02906405, -0.0089951 ,\n",
       "        -0.0433545 , -0.00111388,  0.01636406,  0.00397457, -0.00108257,\n",
       "        -0.0037796 , -0.01068632,  0.0104787 , -0.02008325, -0.01644645,\n",
       "        -0.00596213, -0.0200928 , -0.02715974, -0.02127104, -0.01029552,\n",
       "         0.00328935, -0.01028681, -0.0119005 , -0.015374  ,  0.00090212,\n",
       "        -0.04712281, -0.02437174, -0.01910893, -0.02191057, -0.00258671,\n",
       "        -0.00499107, -0.00676285, -0.0189265 , -0.02075096, -0.02203235,\n",
       "        -0.00770629, -0.00767436, -0.01289134, -0.00070423, -0.00839668,\n",
       "        -0.0044839 , -0.02264989, -0.01179727,  0.00293006,  0.0025629 ,\n",
       "        -0.0272254 , -0.01652966,  0.01313746,  0.00198854, -0.01350262,\n",
       "        -0.01632613, -0.00383614, -0.01232719, -0.0125491 ,  0.007411  ,\n",
       "        -0.02740432, -0.01474613, -0.03729865, -0.01561882, -0.00311561,\n",
       "        -0.03710039, -0.0311619 , -0.04208252, -0.01375606, -0.0120404 ,\n",
       "        -0.01062908, -0.02248171, -0.00532948, -0.01941092, -0.02966103,\n",
       "        -0.02875637, -0.02228901, -0.01818993, -0.02095993, -0.02199722,\n",
       "        -0.03503029, -0.0221318 , -0.03027308, -0.03817126, -0.01255322,\n",
       "        -0.02028518, -0.02068695, -0.02567858, -0.02608128, -0.00251248,\n",
       "         0.06411292, -0.03094879, -0.0138333 , -0.01877985, -0.02303554,\n",
       "        -0.0267702 , -0.01438461, -0.00068372, -0.00443763, -0.01854473,\n",
       "        -0.00202833, -0.02816358, -0.03693553, -0.01431296, -0.01192584,\n",
       "        -0.00731306, -0.00184575, -0.01225104, -0.0118832 , -0.02509578,\n",
       "        -0.0224808 , -0.00748458, -0.02314312,  0.00721138, -0.01589291,\n",
       "        -0.01215483, -0.02112498,  0.02530274, -0.01122488, -0.01722583,\n",
       "        -0.01658306, -0.01099019,  0.01263909,  0.00562976, -0.02363619,\n",
       "        -0.00639543,  0.00221508, -0.01895493], dtype=float32),\n",
       " array([[-0.04844097],\n",
       "        [-0.07089099],\n",
       "        [-0.1622575 ],\n",
       "        [-0.04628326],\n",
       "        [-0.08762885],\n",
       "        [-0.17156853],\n",
       "        [-0.14249264],\n",
       "        [-0.10742064],\n",
       "        [-0.18612678],\n",
       "        [ 0.07956724],\n",
       "        [ 0.15029553],\n",
       "        [ 0.16794041],\n",
       "        [-0.06695198],\n",
       "        [ 0.12864892],\n",
       "        [-0.1757703 ],\n",
       "        [-0.02321422],\n",
       "        [-0.14999074],\n",
       "        [-0.00698663],\n",
       "        [ 0.11394005],\n",
       "        [ 0.04712744],\n",
       "        [ 0.01975889],\n",
       "        [ 0.07176183],\n",
       "        [ 0.18617985],\n",
       "        [-0.0239123 ],\n",
       "        [ 0.09797314],\n",
       "        [ 0.02919234],\n",
       "        [-0.1200491 ],\n",
       "        [ 0.12316471],\n",
       "        [ 0.06656172],\n",
       "        [ 0.19143228],\n",
       "        [-0.10211919],\n",
       "        [-0.07085425],\n",
       "        [ 0.03638934],\n",
       "        [ 0.17941472],\n",
       "        [ 0.19807608],\n",
       "        [ 0.04711818],\n",
       "        [-0.04450539],\n",
       "        [-0.11643402],\n",
       "        [-0.08462875],\n",
       "        [-0.12958324],\n",
       "        [ 0.02775469],\n",
       "        [ 0.07178433],\n",
       "        [-0.01639257],\n",
       "        [-0.08911555],\n",
       "        [ 0.034676  ],\n",
       "        [-0.08769202],\n",
       "        [-0.17811106],\n",
       "        [ 0.15067686],\n",
       "        [ 0.09029021],\n",
       "        [-0.04504024],\n",
       "        [ 0.16487458],\n",
       "        [ 0.18525389],\n",
       "        [-0.06757643],\n",
       "        [ 0.10680284],\n",
       "        [ 0.14483073],\n",
       "        [ 0.08883947],\n",
       "        [-0.09134043],\n",
       "        [-0.15351322],\n",
       "        [ 0.02856092],\n",
       "        [-0.15562929],\n",
       "        [ 0.11060927],\n",
       "        [-0.00907981],\n",
       "        [-0.06860816],\n",
       "        [ 0.10791984],\n",
       "        [-0.10236093],\n",
       "        [ 0.19477133],\n",
       "        [ 0.0984469 ],\n",
       "        [ 0.17522426],\n",
       "        [-0.07379612],\n",
       "        [-0.01676315],\n",
       "        [ 0.05641955],\n",
       "        [ 0.03910152],\n",
       "        [ 0.09664457],\n",
       "        [-0.07791642],\n",
       "        [-0.10333629],\n",
       "        [-0.00989749],\n",
       "        [ 0.08296046],\n",
       "        [ 0.12840837],\n",
       "        [-0.12109107],\n",
       "        [-0.14724614],\n",
       "        [ 0.15399356],\n",
       "        [ 0.14684099],\n",
       "        [-0.10787027],\n",
       "        [ 0.19111854],\n",
       "        [ 0.03928972],\n",
       "        [-0.09194664],\n",
       "        [ 0.14212547],\n",
       "        [ 0.1587052 ],\n",
       "        [ 0.1107945 ],\n",
       "        [ 0.0948372 ],\n",
       "        [-0.03605354],\n",
       "        [-0.16516966],\n",
       "        [-0.02843166],\n",
       "        [-0.12396922],\n",
       "        [-0.00722785],\n",
       "        [ 0.15511788],\n",
       "        [ 0.18531357],\n",
       "        [ 0.10257085],\n",
       "        [-0.14248581],\n",
       "        [-0.09252637],\n",
       "        [ 0.03516723],\n",
       "        [ 0.03168102],\n",
       "        [-0.18967488],\n",
       "        [ 0.13724682],\n",
       "        [ 0.1057983 ],\n",
       "        [ 0.14524916],\n",
       "        [-0.13617745],\n",
       "        [-0.06180885],\n",
       "        [ 0.10968088],\n",
       "        [-0.11964073],\n",
       "        [-0.01407961],\n",
       "        [-0.05031336],\n",
       "        [ 0.04876423],\n",
       "        [-0.00694479],\n",
       "        [-0.17403983],\n",
       "        [ 0.17085572],\n",
       "        [-0.0037281 ],\n",
       "        [ 0.01119857],\n",
       "        [-0.08992019],\n",
       "        [-0.09190074],\n",
       "        [ 0.14471404],\n",
       "        [-0.03480237],\n",
       "        [-0.07502516],\n",
       "        [ 0.0335148 ],\n",
       "        [ 0.15173258],\n",
       "        [ 0.12091737],\n",
       "        [ 0.01078567],\n",
       "        [-0.01326451]], dtype=float32),\n",
       " array([-0.00500014], dtype=float32)]"
      ]
     },
     "execution_count": 4,
     "metadata": {},
     "output_type": "execute_result"
    }
   ],
   "source": [
    "model.get_weights()"
   ]
  },
  {
   "cell_type": "code",
   "execution_count": 5,
   "metadata": {},
   "outputs": [],
   "source": [
    "def preprocess_text(text):\n",
    "    words=text.lower().split()\n",
    "    encoded_review=[word_index.get(word,2)+3 for word in words]\n",
    "    padded_review=sequence.pad_sequences([encoded_review],maxlen=500)\n",
    "    return padded_review\n",
    "\n",
    "def decode_review(encoded_review):\n",
    "    return ' '.join([reverse_word.get(i-3,'?')for i in encoded_review])\n",
    "\n"
   ]
  },
  {
   "cell_type": "code",
   "execution_count": 6,
   "metadata": {},
   "outputs": [],
   "source": [
    "#prediction\n",
    "\n",
    "def predict_sentiment(review):\n",
    "    preprocessed= preprocess_text(review)\n",
    "\n",
    "    prediction=model.predict(preprocessed)\n",
    "    \n",
    "    sentiment='Positive' if prediction[0][0]>0.5 else 'Negative'\n",
    "    \n",
    "    return sentiment, prediction[0][0]"
   ]
  },
  {
   "cell_type": "code",
   "execution_count": 7,
   "metadata": {},
   "outputs": [
    {
     "name": "stdout",
     "output_type": "stream",
     "text": [
      "\u001b[1m1/1\u001b[0m \u001b[32m━━━━━━━━━━━━━━━━━━━━\u001b[0m\u001b[37m\u001b[0m \u001b[1m0s\u001b[0m 123ms/step\n",
      "Review:this movie was Fantastic! i really enjoyed it\n",
      "Sentiment:Negative\n",
      "Prediction score:0.49860623478889465\n"
     ]
    }
   ],
   "source": [
    "eg=\"this movie was Fantastic! i really enjoyed it\"\n",
    "sentiment,score=predict_sentiment(eg)\n",
    "\n",
    "print(f\"Review:{eg}\")\n",
    "print(f\"Sentiment:{sentiment}\")\n",
    "print(f\"Prediction score:{score}\")"
   ]
  },
  {
   "cell_type": "code",
   "execution_count": null,
   "metadata": {},
   "outputs": [],
   "source": []
  },
  {
   "cell_type": "code",
   "execution_count": null,
   "metadata": {},
   "outputs": [],
   "source": []
  },
  {
   "cell_type": "code",
   "execution_count": null,
   "metadata": {},
   "outputs": [],
   "source": []
  },
  {
   "cell_type": "code",
   "execution_count": null,
   "metadata": {},
   "outputs": [],
   "source": []
  }
 ],
 "metadata": {
  "kernelspec": {
   "display_name": "myyenv",
   "language": "python",
   "name": "python3"
  },
  "language_info": {
   "codemirror_mode": {
    "name": "ipython",
    "version": 3
   },
   "file_extension": ".py",
   "mimetype": "text/x-python",
   "name": "python",
   "nbconvert_exporter": "python",
   "pygments_lexer": "ipython3",
   "version": "3.11.0"
  }
 },
 "nbformat": 4,
 "nbformat_minor": 2
}
